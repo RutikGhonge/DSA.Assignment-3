{
 "cells": [
  {
   "cell_type": "markdown",
   "id": "b0755455",
   "metadata": {},
   "source": [
    "# 1.Implement Binary tree"
   ]
  },
  {
   "cell_type": "code",
   "execution_count": 18,
   "id": "92ef1614",
   "metadata": {},
   "outputs": [
    {
     "name": "stdout",
     "output_type": "stream",
     "text": [
      "27\n"
     ]
    }
   ],
   "source": [
    "class Node:\n",
    "\n",
    "    def __init__(self, data):\n",
    "        # left child\n",
    "        self.left = None\n",
    "        # right child\n",
    "        self.right = None\n",
    "        # node's value\n",
    "        self.data = data\n",
    "\n",
    "    # print function\n",
    "    def PrintTree(self):\n",
    "        print(self.data)\n",
    "\n",
    "root = Node(27)\n",
    "\n",
    "root.PrintTree()\n"
   ]
  },
  {
   "cell_type": "code",
   "execution_count": null,
   "id": "b56e9e8b",
   "metadata": {},
   "outputs": [],
   "source": []
  },
  {
   "cell_type": "markdown",
   "id": "e88e6338",
   "metadata": {},
   "source": [
    "# 2.Find height of a given tree"
   ]
  },
  {
   "cell_type": "code",
   "execution_count": 20,
   "id": "b7a3640b",
   "metadata": {},
   "outputs": [
    {
     "name": "stdout",
     "output_type": "stream",
     "text": [
      "Height of tree is 3\n"
     ]
    }
   ],
   "source": [
    "class Node:\n",
    "     \n",
    "\n",
    "    def __init__(self, data):\n",
    "        self.data = data\n",
    "        self.left = None\n",
    "        self.right = None\n",
    " \n",
    "\n",
    "def treeHeight(root):\n",
    "     \n",
    "    # Base Case\n",
    "    if root is None:\n",
    "        return 0\n",
    "     \n",
    "    \n",
    "    q = []\n",
    "     \n",
    "    \n",
    "    q.append(root)\n",
    "    height = 0\n",
    " \n",
    "    while(True):\n",
    "         \n",
    "        \n",
    "        nodeCount = len(q)\n",
    "        if nodeCount == 0 :\n",
    "            return height\n",
    "     \n",
    "        height += 1\n",
    " \n",
    "        \n",
    "        while(nodeCount > 0):\n",
    "            node = q[0]\n",
    "            q.pop(0)\n",
    "            if node.left is not None:\n",
    "                q.append(node.left)\n",
    "            if node.right is not None:\n",
    "                q.append(node.right)\n",
    " \n",
    "            nodeCount -= 1\n",
    " \n",
    " \n",
    "\n",
    "root = Node(1)\n",
    "root.left = Node(2)\n",
    "root.right = Node(3)\n",
    "root.left.left = Node(4)\n",
    "root.left.right = Node(5)\n",
    " \n",
    "print (\"Height of tree is\", treeHeight(root))\n",
    " "
   ]
  },
  {
   "cell_type": "code",
   "execution_count": null,
   "id": "5504c224",
   "metadata": {},
   "outputs": [],
   "source": []
  },
  {
   "cell_type": "markdown",
   "id": "a6792615",
   "metadata": {},
   "source": [
    "# 3.Perform Pre-order, Post-order, In-order traversal"
   ]
  },
  {
   "cell_type": "code",
   "execution_count": 23,
   "id": "d961a68f",
   "metadata": {},
   "outputs": [
    {
     "name": "stdout",
     "output_type": "stream",
     "text": [
      "Preorder traversal of binary tree is\n",
      "1\n",
      "2\n",
      "4\n",
      "5\n",
      "3\n",
      "\n",
      "Inorder traversal of binary tree is\n",
      "4\n",
      "2\n",
      "5\n",
      "1\n",
      "3\n",
      "\n",
      "Postorder traversal of binary tree is\n",
      "4\n",
      "5\n",
      "2\n",
      "3\n",
      "1\n"
     ]
    }
   ],
   "source": [
    "class Node:\n",
    "    def __init__(self, key):\n",
    "        self.left = None\n",
    "        self.right = None\n",
    "        self.val = key\n",
    " \n",
    "\n",
    "def printInorder(root):\n",
    " \n",
    "    if root:\n",
    " \n",
    "        \n",
    "        printInorder(root.left)\n",
    " \n",
    "        \n",
    "        print(root.val),\n",
    " \n",
    "        \n",
    "        printInorder(root.right)\n",
    " \n",
    " \n",
    "\n",
    "def printPostorder(root):\n",
    " \n",
    "    if root:\n",
    " \n",
    "        \n",
    "        printPostorder(root.left)\n",
    " \n",
    "        \n",
    "        printPostorder(root.right)\n",
    " \n",
    "       \n",
    "        print(root.val),\n",
    " \n",
    " \n",
    "\n",
    "def printPreorder(root):\n",
    " \n",
    "    if root:\n",
    " \n",
    "        \n",
    "        print(root.val),\n",
    " \n",
    "        \n",
    "        printPreorder(root.left)\n",
    " \n",
    "        \n",
    "        printPreorder(root.right)\n",
    " \n",
    " \n",
    "# Driver code\n",
    "root = Node(1)\n",
    "root.left = Node(2)\n",
    "root.right = Node(3)\n",
    "root.left.left = Node(4)\n",
    "root.left.right = Node(5)\n",
    "print (\"Preorder traversal of binary tree is\")\n",
    "printPreorder(root)\n",
    " \n",
    "print (\"\\nInorder traversal of binary tree is\")\n",
    "printInorder(root)\n",
    " \n",
    "print (\"\\nPostorder traversal of binary tree is\")\n",
    "printPostorder(root)\n"
   ]
  },
  {
   "cell_type": "code",
   "execution_count": null,
   "id": "afb4491f",
   "metadata": {},
   "outputs": [],
   "source": []
  },
  {
   "cell_type": "markdown",
   "id": "216ced57",
   "metadata": {},
   "source": [
    "# 4.Function to print all the leaves in a given binary tree"
   ]
  },
  {
   "cell_type": "code",
   "execution_count": 26,
   "id": "7f633de4",
   "metadata": {},
   "outputs": [
    {
     "name": "stdout",
     "output_type": "stream",
     "text": [
      "4 6 7 9 10 "
     ]
    }
   ],
   "source": [
    "\n",
    "class Node:\n",
    "   \n",
    "    def __init__(self, data):\n",
    "        self.data = data\n",
    "        self.left = None\n",
    "        self.right = None\n",
    " \n",
    "# Function to print leaf\n",
    "# nodes from left to right\n",
    "def printLeafNodes(root: Node) -> None:\n",
    " \n",
    "    # If node is null, return\n",
    "    if (not root):\n",
    "        return\n",
    " \n",
    "    # If node is leaf node,\n",
    "    # print its data\n",
    "    if (not root.left and\n",
    "        not root.right):\n",
    "        print(root.data,\n",
    "              end = \" \")\n",
    "        return\n",
    " \n",
    "    # If left child exists,\n",
    "    # check for leaf recursively\n",
    "    if root.left:\n",
    "        printLeafNodes(root.left)\n",
    " \n",
    "    # If right child exists,\n",
    "    # check for leaf recursively\n",
    "    if root.right:\n",
    "        printLeafNodes(root.right)\n",
    " \n",
    "# Driver Code\n",
    "if __name__ == \"__main__\":\n",
    " \n",
    "    # Let us create binary tree shown in\n",
    "    # above diagram\n",
    "    root = Node(1)\n",
    "    root.left = Node(2)\n",
    "    root.right = Node(3)\n",
    "    root.left.left = Node(4)\n",
    "    root.right.left = Node(5)\n",
    "    root.right.right = Node(8)\n",
    "    root.right.left.left = Node(6)\n",
    "    root.right.left.right = Node(7)\n",
    "    root.right.right.left = Node(9)\n",
    "    root.right.right.right = Node(10)\n",
    " \n",
    "    # print leaf nodes of the given tree\n",
    "    printLeafNodes(root)\n",
    " "
   ]
  },
  {
   "cell_type": "code",
   "execution_count": null,
   "id": "c791c5ea",
   "metadata": {},
   "outputs": [],
   "source": []
  },
  {
   "cell_type": "markdown",
   "id": "b5f3811d",
   "metadata": {},
   "source": [
    "# 5.Implement BFS (Breath First Search) and DFS (Depth First Search)"
   ]
  },
  {
   "cell_type": "code",
   "execution_count": 28,
   "id": "b8803784",
   "metadata": {},
   "outputs": [
    {
     "name": "stdout",
     "output_type": "stream",
     "text": [
      "Following is Breadth First Traversal (starting from vertex 2)\n",
      "2 0 3 1 "
     ]
    }
   ],
   "source": [
    "from collections import defaultdict\n",
    " \n",
    "\n",
    "class Graph:\n",
    " \n",
    "    # Constructor\n",
    "    def __init__(self):\n",
    " \n",
    "        \n",
    "        self.graph = defaultdict(list)\n",
    " \n",
    "    \n",
    "    def addEdge(self,u,v):\n",
    "        self.graph[u].append(v)\n",
    " \n",
    "    \n",
    "    def BFS(self, s):\n",
    " \n",
    "        \n",
    "        visited = [False] * (max(self.graph) + 1)\n",
    " \n",
    "        \n",
    "        queue = []\n",
    " \n",
    "        \n",
    "        queue.append(s)\n",
    "        visited[s] = True\n",
    " \n",
    "        while queue:\n",
    " \n",
    "            \n",
    "            s = queue.pop(0)\n",
    "            print (s, end = \" \")\n",
    " \n",
    "            \n",
    "            for i in self.graph[s]:\n",
    "                if visited[i] == False:\n",
    "                    queue.append(i)\n",
    "                    visited[i] = True\n",
    " \n",
    "\n",
    "g = Graph()\n",
    "g.addEdge(0, 1)\n",
    "g.addEdge(0, 2)\n",
    "g.addEdge(1, 2)\n",
    "g.addEdge(2, 0)\n",
    "g.addEdge(2, 3)\n",
    "g.addEdge(3, 3)\n",
    " \n",
    "print (\"Following is Breadth First Traversal\"\n",
    "                  \" (starting from vertex 2)\")\n",
    "g.BFS(2)\n",
    " "
   ]
  },
  {
   "cell_type": "code",
   "execution_count": null,
   "id": "61c8a537",
   "metadata": {},
   "outputs": [],
   "source": []
  },
  {
   "cell_type": "markdown",
   "id": "19eb0f1c",
   "metadata": {},
   "source": [
    "# 6.Find sum of all left leaves in a given Binary Tree"
   ]
  },
  {
   "cell_type": "code",
   "execution_count": 30,
   "id": "6a7ec34e",
   "metadata": {},
   "outputs": [
    {
     "name": "stdout",
     "output_type": "stream",
     "text": [
      "Sum of left leaves is 78\n"
     ]
    }
   ],
   "source": [
    "class Node:\n",
    "    \n",
    "    def __init__(self, key):\n",
    "        self.key = key\n",
    "        self.left = None\n",
    "        self.right = None\n",
    "\n",
    "def isLeaf(node):\n",
    "    if node is None:\n",
    "        return False\n",
    "    if node.left is None and node.right is None:\n",
    "        return True\n",
    "    return False\n",
    " \n",
    "\n",
    "def leftLeavesSum(root):\n",
    " \n",
    "   \n",
    "    res = 0\n",
    "     \n",
    "    \n",
    "    if root is not None:\n",
    " \n",
    "       \n",
    "        if isLeaf(root.left):\n",
    "            res += root.left.key\n",
    "        else:\n",
    "            \n",
    "            res += leftLeavesSum(root.left)\n",
    " \n",
    "        \n",
    "        res += leftLeavesSum(root.right)\n",
    "    return res\n",
    "\n",
    "root = Node(20)\n",
    "root.left = Node(9)\n",
    "root.right = Node(49)\n",
    "root.right.left = Node(23)       \n",
    "root.right.right = Node(52)\n",
    "root.right.right.left = Node(50)\n",
    "root.left.left = Node(5)\n",
    "root.left.right = Node(12)\n",
    "root.left.right.right = Node(12)\n",
    "print (\"Sum of left leaves is\", leftLeavesSum(root))\n",
    " \n"
   ]
  },
  {
   "cell_type": "code",
   "execution_count": null,
   "id": "7f2df8b3",
   "metadata": {},
   "outputs": [],
   "source": []
  },
  {
   "cell_type": "markdown",
   "id": "94059e93",
   "metadata": {},
   "source": [
    "# 7.Find sum of all nodes of the given perfect binary tree"
   ]
  },
  {
   "cell_type": "code",
   "execution_count": 32,
   "id": "16fc06ae",
   "metadata": {},
   "outputs": [
    {
     "name": "stdout",
     "output_type": "stream",
     "text": [
      "30\n"
     ]
    }
   ],
   "source": [
    "def SumNodes(l):\n",
    "     \n",
    "    \n",
    "    leafNodeCount = pow(2, l - 1)\n",
    " \n",
    "    \n",
    "    vec = [[] for i in range(l)]\n",
    " \n",
    "    \n",
    "    for i in range(1, leafNodeCount + 1):\n",
    "        vec[l - 1].append(i)\n",
    " \n",
    "    \n",
    "    for i in range(l - 2, -1, -1):\n",
    "        k = 0\n",
    " \n",
    "        \n",
    "        while (k < len(vec[i + 1]) - 1):\n",
    " \n",
    "           \n",
    "            vec[i].append(vec[i + 1][k] +\n",
    "                          vec[i + 1][k + 1])\n",
    "            k += 2\n",
    " \n",
    "    Sum = 0\n",
    " \n",
    "    \\\n",
    "    for i in range(l):\n",
    "        for j in range(len(vec[i])):\n",
    "            Sum += vec[i][j]\n",
    " \n",
    "    return Sum\n",
    " \n",
    "\n",
    "if __name__ == '__main__':\n",
    "    l = 3\n",
    " \n",
    "    print(SumNodes(l))\n",
    " "
   ]
  },
  {
   "cell_type": "code",
   "execution_count": null,
   "id": "3b735804",
   "metadata": {},
   "outputs": [],
   "source": []
  },
  {
   "cell_type": "markdown",
   "id": "fd500525",
   "metadata": {},
   "source": [
    "# 8.Count subtress that sum up to a given value x in a binary tree"
   ]
  },
  {
   "cell_type": "code",
   "execution_count": 34,
   "id": "dd62cee7",
   "metadata": {},
   "outputs": [
    {
     "name": "stdout",
     "output_type": "stream",
     "text": [
      "Count = 2\n"
     ]
    }
   ],
   "source": [
    "class getNode:\n",
    "    def __init__(self, data):\n",
    "         \n",
    "        \n",
    "        self.data = data\n",
    "        self.left = self.right = None\n",
    "         \n",
    "\n",
    "def countSubtreesWithSumX(root, count, x):\n",
    "     \n",
    "   \n",
    "    if (not root):\n",
    "        return 0\n",
    " \n",
    "    \n",
    "    ls = countSubtreesWithSumX(root.left,\n",
    "                               count, x)\n",
    " \n",
    "    \n",
    "    rs = countSubtreesWithSumX(root.right,\n",
    "                               count, x)\n",
    " \n",
    "    \n",
    "    Sum = ls + rs + root.data\n",
    " \n",
    "    \n",
    "    if (Sum == x):\n",
    "        count[0] += 1\n",
    " \n",
    "   \n",
    "    return Sum\n",
    " \n",
    "\n",
    "def countSubtreesWithSumXUtil(root, x):\n",
    "     \n",
    "    # if tree is empty\n",
    "    if (not root):\n",
    "        return 0\n",
    " \n",
    "    count = [0]\n",
    " \n",
    "    ls = countSubtreesWithSumX(root.left,\n",
    "                               count, x)\n",
    " \n",
    "    \n",
    "    rs = countSubtreesWithSumX(root.right,\n",
    "                               count, x)\n",
    " \n",
    "    \n",
    "    if ((ls + rs + root.data) == x):\n",
    "        count[0] += 1\n",
    " \n",
    "   \n",
    "    return count[0]\n",
    " \n",
    "\n",
    "if __name__ == '__main__':\n",
    "     \n",
    "\n",
    "    root = getNode(5)\n",
    "    root.left = getNode(-10)\n",
    "    root.right = getNode(3)\n",
    "    root.left.left = getNode(9)\n",
    "    root.left.right = getNode(8)\n",
    "    root.right.left = getNode(-4)\n",
    "    root.right.right = getNode(7)\n",
    " \n",
    "    x = 7\n",
    " \n",
    "    print(\"Count =\",\n",
    "           countSubtreesWithSumXUtil(root, x))\n",
    " "
   ]
  },
  {
   "cell_type": "code",
   "execution_count": null,
   "id": "b6016395",
   "metadata": {},
   "outputs": [],
   "source": []
  },
  {
   "cell_type": "markdown",
   "id": "17fb302b",
   "metadata": {},
   "source": [
    "# 9.Find maximum level sum in Binary Tree"
   ]
  },
  {
   "cell_type": "code",
   "execution_count": 35,
   "id": "c7f2b869",
   "metadata": {},
   "outputs": [
    {
     "name": "stdout",
     "output_type": "stream",
     "text": [
      "Maximum level sum is 17\n"
     ]
    }
   ],
   "source": [
    "\n",
    "from collections import deque\n",
    " \n",
    "\n",
    "class Node:\n",
    "     \n",
    "    def __init__(self, key):\n",
    "         \n",
    "        self.data = key\n",
    "        self.left = None\n",
    "        self.right = None\n",
    " \n",
    "\n",
    "def maxLevelSum(root):\n",
    "     \n",
    "    \n",
    "    if (root == None):\n",
    "        return 0\n",
    " \n",
    "    \n",
    "    result = root.data\n",
    "     \n",
    "    \n",
    "    q = deque()\n",
    "    q.append(root)\n",
    "     \n",
    "    while (len(q) > 0):\n",
    "         \n",
    "        \n",
    "        count = len(q)\n",
    " \n",
    "        \n",
    "        sum = 0\n",
    "        while (count > 0):\n",
    "             \n",
    "            \n",
    "            temp = q.popleft()\n",
    " \n",
    "            \n",
    "            sum = sum + temp.data\n",
    " \n",
    "            \n",
    "            if (temp.left != None):\n",
    "                q.append(temp.left)\n",
    "            if (temp.right != None):\n",
    "                q.append(temp.right)\n",
    "                 \n",
    "            count -= 1   \n",
    " \n",
    "        \n",
    "        result = max(sum, result)\n",
    " \n",
    "    return result\n",
    "     \n",
    "\n",
    "if __name__ == '__main__':\n",
    "     \n",
    "    root = Node(1)\n",
    "    root.left = Node(2)\n",
    "    root.right = Node(3)\n",
    "    root.left.left = Node(4)\n",
    "    root.left.right = Node(5)\n",
    "    root.right.right = Node(8)\n",
    "    root.right.right.left = Node(6)\n",
    "    root.right.right.right = Node(7)\n",
    " \n",
    "    \n",
    "    print(\"Maximum level sum is\", maxLevelSum(root))\n",
    " "
   ]
  },
  {
   "cell_type": "code",
   "execution_count": null,
   "id": "331c3990",
   "metadata": {},
   "outputs": [],
   "source": []
  },
  {
   "cell_type": "markdown",
   "id": "0b72e4ba",
   "metadata": {},
   "source": [
    "# 10.Print the nodes at odd levels of a tree"
   ]
  },
  {
   "cell_type": "code",
   "execution_count": 36,
   "id": "ded7ebcb",
   "metadata": {},
   "outputs": [
    {
     "name": "stdout",
     "output_type": "stream",
     "text": [
      "1 4 5 "
     ]
    }
   ],
   "source": [
    "class newNode:\n",
    "    def __init__(self, data):\n",
    "        self.data = data\n",
    "        self.left = self.right = None\n",
    " \n",
    "def printOddNodes(root, isOdd = True):\n",
    "     \n",
    "    \n",
    "    if (root == None):\n",
    "        return\n",
    " \n",
    "    \n",
    "    if (isOdd):\n",
    "        print(root.data, end = \" \")\n",
    " \n",
    "    \n",
    "    printOddNodes(root.left, not isOdd)\n",
    "    printOddNodes(root.right, not isOdd)\n",
    " \n",
    "# Driver code\n",
    "if __name__ == '__main__':\n",
    "    root = newNode(1)\n",
    "    root.left = newNode(2)\n",
    "    root.right = newNode(3)\n",
    "    root.left.left = newNode(4)\n",
    "    root.left.right = newNode(5)\n",
    "    printOddNodes(root)\n",
    "     \n"
   ]
  },
  {
   "cell_type": "code",
   "execution_count": null,
   "id": "fd50d585",
   "metadata": {},
   "outputs": [],
   "source": []
  },
  {
   "cell_type": "code",
   "execution_count": null,
   "id": "9e3e25c8",
   "metadata": {},
   "outputs": [],
   "source": []
  }
 ],
 "metadata": {
  "kernelspec": {
   "display_name": "Python 3 (ipykernel)",
   "language": "python",
   "name": "python3"
  },
  "language_info": {
   "codemirror_mode": {
    "name": "ipython",
    "version": 3
   },
   "file_extension": ".py",
   "mimetype": "text/x-python",
   "name": "python",
   "nbconvert_exporter": "python",
   "pygments_lexer": "ipython3",
   "version": "3.10.0"
  }
 },
 "nbformat": 4,
 "nbformat_minor": 5
}
